{
 "cells": [
  {
   "cell_type": "code",
   "execution_count": 192,
   "id": "executive-stopping",
   "metadata": {},
   "outputs": [],
   "source": [
    "import pandas as pd\n",
    "import numpy as np\n",
    "\n",
    "from sklearn.neighbors import KNeighborsClassifier\n",
    "from sklearn import metrics\n",
    "from sklearn.model_selection import cross_val_score\n",
    "from sklearn.model_selection import GridSearchCV\n",
    "from sklearn.linear_model import LogisticRegression\n",
    "from sklearn.model_selection import train_test_split\n",
    "from sklearn.metrics import precision_score, recall_score, accuracy_score, roc_auc_score,f1_score\n",
    "from sklearn.metrics import confusion_matrix\n",
    "from sklearn.preprocessing import StandardScaler"
   ]
  },
  {
   "cell_type": "code",
   "execution_count": 193,
   "id": "floppy-permission",
   "metadata": {},
   "outputs": [],
   "source": [
    "df_class = pd.read_csv('/Users/chrisbyrnes/Metis/Classification/ClassDataCSV.csv')"
   ]
  },
  {
   "cell_type": "code",
   "execution_count": 194,
   "id": "altered-least",
   "metadata": {},
   "outputs": [
    {
     "name": "stdout",
     "output_type": "stream",
     "text": [
      "<class 'pandas.core.frame.DataFrame'>\n",
      "RangeIndex: 9955 entries, 0 to 9954\n",
      "Data columns (total 18 columns):\n",
      " #   Column         Non-Null Count  Dtype\n",
      "---  ------         --------------  -----\n",
      " 0   OneYear        9955 non-null   int64\n",
      " 1   SciCont        9955 non-null   int64\n",
      " 2   SciExpert      9955 non-null   int64\n",
      " 3   EnePrior       9955 non-null   int64\n",
      " 4   IncRel         9955 non-null   int64\n",
      " 5   CliImp         9955 non-null   int64\n",
      " 6   MedProf        9955 non-null   int64\n",
      " 7   ClinTrials     9955 non-null   int64\n",
      " 8   USHelp         9955 non-null   int64\n",
      " 9   COVFED_NonBin  9955 non-null   int64\n",
      " 10  COVED_Bin      9955 non-null   int64\n",
      " 11  CovidThreat    9955 non-null   int64\n",
      " 12  SocDist        9955 non-null   int64\n",
      " 13  Vaccine        9955 non-null   int64\n",
      " 14  VacToday       9955 non-null   int64\n",
      " 15  Female         9955 non-null   int64\n",
      " 16  PolLean        9955 non-null   int64\n",
      " 17  Feature        9955 non-null   int64\n",
      "dtypes: int64(18)\n",
      "memory usage: 1.4 MB\n"
     ]
    }
   ],
   "source": [
    "df_class.info()"
   ]
  },
  {
   "cell_type": "code",
   "execution_count": 195,
   "id": "indonesian-potential",
   "metadata": {},
   "outputs": [
    {
     "data": {
      "text/html": [
       "<div>\n",
       "<style scoped>\n",
       "    .dataframe tbody tr th:only-of-type {\n",
       "        vertical-align: middle;\n",
       "    }\n",
       "\n",
       "    .dataframe tbody tr th {\n",
       "        vertical-align: top;\n",
       "    }\n",
       "\n",
       "    .dataframe thead th {\n",
       "        text-align: right;\n",
       "    }\n",
       "</style>\n",
       "<table border=\"1\" class=\"dataframe\">\n",
       "  <thead>\n",
       "    <tr style=\"text-align: right;\">\n",
       "      <th></th>\n",
       "      <th>OneYear</th>\n",
       "      <th>SciCont</th>\n",
       "      <th>SciExpert</th>\n",
       "      <th>EnePrior</th>\n",
       "      <th>IncRel</th>\n",
       "      <th>CliImp</th>\n",
       "      <th>MedProf</th>\n",
       "      <th>ClinTrials</th>\n",
       "      <th>USHelp</th>\n",
       "      <th>COVFED_NonBin</th>\n",
       "      <th>COVED_Bin</th>\n",
       "      <th>CovidThreat</th>\n",
       "      <th>SocDist</th>\n",
       "      <th>Vaccine</th>\n",
       "      <th>VacToday</th>\n",
       "      <th>Female</th>\n",
       "      <th>PolLean</th>\n",
       "      <th>Feature</th>\n",
       "    </tr>\n",
       "  </thead>\n",
       "  <tbody>\n",
       "    <tr>\n",
       "      <th>0</th>\n",
       "      <td>1</td>\n",
       "      <td>0</td>\n",
       "      <td>0</td>\n",
       "      <td>1</td>\n",
       "      <td>1</td>\n",
       "      <td>1</td>\n",
       "      <td>1</td>\n",
       "      <td>1</td>\n",
       "      <td>1</td>\n",
       "      <td>4</td>\n",
       "      <td>1</td>\n",
       "      <td>1</td>\n",
       "      <td>1</td>\n",
       "      <td>1</td>\n",
       "      <td>1</td>\n",
       "      <td>1</td>\n",
       "      <td>1</td>\n",
       "      <td>1</td>\n",
       "    </tr>\n",
       "    <tr>\n",
       "      <th>1</th>\n",
       "      <td>0</td>\n",
       "      <td>1</td>\n",
       "      <td>0</td>\n",
       "      <td>1</td>\n",
       "      <td>1</td>\n",
       "      <td>1</td>\n",
       "      <td>1</td>\n",
       "      <td>1</td>\n",
       "      <td>1</td>\n",
       "      <td>2</td>\n",
       "      <td>0</td>\n",
       "      <td>1</td>\n",
       "      <td>1</td>\n",
       "      <td>1</td>\n",
       "      <td>1</td>\n",
       "      <td>0</td>\n",
       "      <td>0</td>\n",
       "      <td>0</td>\n",
       "    </tr>\n",
       "    <tr>\n",
       "      <th>2</th>\n",
       "      <td>1</td>\n",
       "      <td>1</td>\n",
       "      <td>1</td>\n",
       "      <td>1</td>\n",
       "      <td>1</td>\n",
       "      <td>1</td>\n",
       "      <td>1</td>\n",
       "      <td>1</td>\n",
       "      <td>1</td>\n",
       "      <td>4</td>\n",
       "      <td>1</td>\n",
       "      <td>1</td>\n",
       "      <td>1</td>\n",
       "      <td>1</td>\n",
       "      <td>1</td>\n",
       "      <td>1</td>\n",
       "      <td>1</td>\n",
       "      <td>1</td>\n",
       "    </tr>\n",
       "    <tr>\n",
       "      <th>3</th>\n",
       "      <td>1</td>\n",
       "      <td>1</td>\n",
       "      <td>1</td>\n",
       "      <td>1</td>\n",
       "      <td>1</td>\n",
       "      <td>1</td>\n",
       "      <td>1</td>\n",
       "      <td>1</td>\n",
       "      <td>1</td>\n",
       "      <td>4</td>\n",
       "      <td>1</td>\n",
       "      <td>1</td>\n",
       "      <td>1</td>\n",
       "      <td>0</td>\n",
       "      <td>1</td>\n",
       "      <td>1</td>\n",
       "      <td>1</td>\n",
       "      <td>1</td>\n",
       "    </tr>\n",
       "    <tr>\n",
       "      <th>4</th>\n",
       "      <td>0</td>\n",
       "      <td>0</td>\n",
       "      <td>1</td>\n",
       "      <td>1</td>\n",
       "      <td>1</td>\n",
       "      <td>1</td>\n",
       "      <td>1</td>\n",
       "      <td>1</td>\n",
       "      <td>1</td>\n",
       "      <td>4</td>\n",
       "      <td>1</td>\n",
       "      <td>1</td>\n",
       "      <td>1</td>\n",
       "      <td>1</td>\n",
       "      <td>1</td>\n",
       "      <td>0</td>\n",
       "      <td>1</td>\n",
       "      <td>1</td>\n",
       "    </tr>\n",
       "  </tbody>\n",
       "</table>\n",
       "</div>"
      ],
      "text/plain": [
       "   OneYear  SciCont  SciExpert  EnePrior  IncRel  CliImp  MedProf  ClinTrials  \\\n",
       "0        1        0          0         1       1       1        1           1   \n",
       "1        0        1          0         1       1       1        1           1   \n",
       "2        1        1          1         1       1       1        1           1   \n",
       "3        1        1          1         1       1       1        1           1   \n",
       "4        0        0          1         1       1       1        1           1   \n",
       "\n",
       "   USHelp  COVFED_NonBin  COVED_Bin  CovidThreat  SocDist  Vaccine  VacToday  \\\n",
       "0       1              4          1            1        1        1         1   \n",
       "1       1              2          0            1        1        1         1   \n",
       "2       1              4          1            1        1        1         1   \n",
       "3       1              4          1            1        1        0         1   \n",
       "4       1              4          1            1        1        1         1   \n",
       "\n",
       "   Female  PolLean  Feature  \n",
       "0       1        1        1  \n",
       "1       0        0        0  \n",
       "2       1        1        1  \n",
       "3       1        1        1  \n",
       "4       0        1        1  "
      ]
     },
     "execution_count": 195,
     "metadata": {},
     "output_type": "execute_result"
    }
   ],
   "source": [
    "df_class.head()"
   ]
  },
  {
   "cell_type": "code",
   "execution_count": 196,
   "id": "seven-vaccine",
   "metadata": {},
   "outputs": [],
   "source": [
    "X = df_class[['SciCont','SciExpert','EnePrior','IncRel','CliImp', 'MedProf', 'ClinTrials', 'USHelp',\n",
    "              'CovidThreat', 'SocDist', 'Vaccine','Female','PolLean', 'COVED_Bin','PolLean']]\n",
    "y = df_class['OneYear']"
   ]
  },
  {
   "cell_type": "code",
   "execution_count": 197,
   "id": "clinical-palace",
   "metadata": {},
   "outputs": [
    {
     "name": "stdout",
     "output_type": "stream",
     "text": [
      "(9955, 15)\n",
      "(9955,)\n"
     ]
    }
   ],
   "source": [
    "print(X.shape)\n",
    "print(y.shape)"
   ]
  },
  {
   "cell_type": "code",
   "execution_count": 198,
   "id": "attached-curve",
   "metadata": {},
   "outputs": [],
   "source": [
    "scaler = StandardScaler()\n",
    "X_scaled = scaler.fit_transform(X.values)"
   ]
  },
  {
   "cell_type": "code",
   "execution_count": 199,
   "id": "acknowledged-client",
   "metadata": {},
   "outputs": [],
   "source": [
    "X_scaled, X_test, y, y_test = train_test_split(X_scaled, y, test_size=0.2, random_state=5)"
   ]
  },
  {
   "cell_type": "code",
   "execution_count": 200,
   "id": "painted-prophet",
   "metadata": {},
   "outputs": [
    {
     "name": "stdout",
     "output_type": "stream",
     "text": [
      "(7964, 15)\n",
      "(7964,)\n"
     ]
    }
   ],
   "source": [
    "print(X_scaled.shape)\n",
    "print(y.shape)"
   ]
  },
  {
   "cell_type": "code",
   "execution_count": 201,
   "id": "patent-enough",
   "metadata": {},
   "outputs": [
    {
     "name": "stdout",
     "output_type": "stream",
     "text": [
      "[0.18181818 0.17272727 0.16363636 0.13636364 0.18181818 0.22727273\n",
      " 0.21818182 0.17272727 0.16363636 0.20909091]\n",
      "0.1827272727272727\n"
     ]
    }
   ],
   "source": [
    "knn = KNeighborsClassifier(n_neighbors=1)\n",
    "scores = cross_val_score(knn, X_scaled, y, cv=10, scoring='recall')\n",
    "print(scores)\n",
    "print(scores.mean())"
   ]
  },
  {
   "cell_type": "code",
   "execution_count": 202,
   "id": "impressive-electric",
   "metadata": {},
   "outputs": [
    {
     "name": "stdout",
     "output_type": "stream",
     "text": [
      "[0.1827272727272727, 0.024545454545454547, 0.08545454545454545, 0.022727272727272728, 0.05818181818181818, 0.019090909090909092, 0.03636363636363636, 0.012727272727272726, 0.02363636363636364, 0.010909090909090908, 0.019090909090909092, 0.010909090909090908, 0.013636363636363636, 0.00909090909090909, 0.011818181818181818, 0.00909090909090909, 0.010909090909090908, 0.006363636363636363, 0.00909090909090909, 0.007272727272727273, 0.00909090909090909, 0.007272727272727273, 0.009999999999999998, 0.004545454545454545, 0.008181818181818182, 0.005454545454545455, 0.008181818181818182, 0.005454545454545454, 0.007272727272727273, 0.006363636363636363]\n"
     ]
    }
   ],
   "source": [
    "k_range = range(1, 31)\n",
    "k_scores = []\n",
    "for k in k_range:\n",
    "    knn = KNeighborsClassifier(n_neighbors=k)\n",
    "    scores = cross_val_score(knn, X_scaled, y, cv=10, scoring='recall')\n",
    "    k_scores.append(scores.mean())\n",
    "print(k_scores)"
   ]
  },
  {
   "cell_type": "code",
   "execution_count": 203,
   "id": "given-earth",
   "metadata": {},
   "outputs": [
    {
     "data": {
      "text/plain": [
       "Text(0, 0.5, 'Cross-Validated Recall')"
      ]
     },
     "execution_count": 203,
     "metadata": {},
     "output_type": "execute_result"
    },
    {
     "data": {
      "image/png": "[encoded data removed]",
      "text/plain": [
       "<Figure size 432x288 with 1 Axes>"
      ]
     },
     "metadata": {
      "needs_background": "light"
     },
     "output_type": "display_data"
    }
   ],
   "source": [
    "import matplotlib.pyplot as plt\n",
    "%matplotlib inline\n",
    "\n",
    "# plot the value of K for KNN (x-axis) versus the cross-validated accuracy (y-axis)\n",
    "plt.plot(k_range, k_scores)\n",
    "plt.xlabel('Value of K for KNN')\n",
    "plt.ylabel('Cross-Validated Recall')"
   ]
  },
  {
   "cell_type": "code",
   "execution_count": 204,
   "id": "higher-cleveland",
   "metadata": {},
   "outputs": [
    {
     "name": "stdout",
     "output_type": "stream",
     "text": [
      "range(1, 100)\n"
     ]
    }
   ],
   "source": [
    "k_range = range(1, 100)\n",
    "print(k_range)"
   ]
  },
  {
   "cell_type": "code",
   "execution_count": 205,
   "id": "polish-funeral",
   "metadata": {},
   "outputs": [
    {
     "name": "stdout",
     "output_type": "stream",
     "text": [
      "{'n_neighbors': range(1, 100)}\n"
     ]
    }
   ],
   "source": [
    "param_grid = dict(n_neighbors=k_range)\n",
    "print(param_grid)"
   ]
  },
  {
   "cell_type": "code",
   "execution_count": 206,
   "id": "working-jenny",
   "metadata": {},
   "outputs": [],
   "source": [
    "grid = GridSearchCV(knn, param_grid, cv=10, scoring='recall')"
   ]
  },
  {
   "cell_type": "code",
   "execution_count": 207,
   "id": "exclusive-netscape",
   "metadata": {},
   "outputs": [],
   "source": [
    "grid.fit(X_scaled, y);"
   ]
  },
  {
   "cell_type": "code",
   "execution_count": 208,
   "id": "enclosed-stupid",
   "metadata": {},
   "outputs": [
    {
     "name": "stdout",
     "output_type": "stream",
     "text": [
      "Best params:  {'n_neighbors': 1}\n",
      "Best estimator:  KNeighborsClassifier(n_neighbors=1)\n",
      "Best score:  0.1827272727272727\n"
     ]
    }
   ],
   "source": [
    "print(\"Best params: \", grid.best_params_)\n",
    "print(\"Best estimator: \", grid.best_estimator_)\n",
    "print(\"Best score: \", grid.best_score_)"
   ]
  },
  {
   "cell_type": "code",
   "execution_count": 209,
   "id": "focused-device",
   "metadata": {},
   "outputs": [
    {
     "name": "stdout",
     "output_type": "stream",
     "text": [
      "0.8006027122049222\n",
      "0.18110236220472442\n",
      "0.19574468085106383\n"
     ]
    }
   ],
   "source": [
    "y_pred = grid.predict(X_test)\n",
    "print(metrics.accuracy_score(y_test, y_pred))\n",
    "print(metrics.recall_score(y_test, y_pred))\n",
    "print(metrics.precision_score(y_test, y_pred))"
   ]
  },
  {
   "cell_type": "code",
   "execution_count": 210,
   "id": "acute-determination",
   "metadata": {},
   "outputs": [
    {
     "name": "stdout",
     "output_type": "stream",
     "text": [
      "kNN confusion matrix: \n",
      "\n",
      " [[1548  189]\n",
      " [ 208   46]]\n"
     ]
    }
   ],
   "source": [
    "print(\"kNN confusion matrix: \\n\\n\", confusion_matrix(y_test, grid.predict(X_test)))"
   ]
  },
  {
   "cell_type": "code",
   "execution_count": 211,
   "id": "bronze-plaintiff",
   "metadata": {},
   "outputs": [
    {
     "name": "stdout",
     "output_type": "stream",
     "text": [
      "[0.         0.         0.         0.00909091 0.00909091 0.\n",
      " 0.         0.         0.01818182 0.02727273]\n"
     ]
    }
   ],
   "source": [
    "lr = LogisticRegression()\n",
    "lr.fit(X_scaled, y)\n",
    "scores = cross_val_score(lr, X_scaled, y, cv=10, scoring='recall')\n",
    "print(scores)"
   ]
  },
  {
   "cell_type": "code",
   "execution_count": 212,
   "id": "guilty-shock",
   "metadata": {},
   "outputs": [
    {
     "name": "stdout",
     "output_type": "stream",
     "text": [
      "[0.65454545 0.66363636 0.62727273 0.62727273 0.68181818 0.67272727\n",
      " 0.65454545 0.5        0.55454545 0.58181818]\n"
     ]
    }
   ],
   "source": [
    "lr = LogisticRegression(class_weight = 'balanced')\n",
    "lr.fit(X_scaled, y)\n",
    "scores = cross_val_score(lr, X_scaled, y, cv=10, scoring='recall')\n",
    "print(scores)"
   ]
  },
  {
   "cell_type": "code",
   "execution_count": 213,
   "id": "written-leone",
   "metadata": {},
   "outputs": [
    {
     "name": "stdout",
     "output_type": "stream",
     "text": [
      "0.6417322834645669\n",
      "0.5700652938222\n"
     ]
    }
   ],
   "source": [
    "y_pred = lr.predict(X_test)\n",
    "print(metrics.recall_score(y_test, y_pred))\n",
    "print(metrics.accuracy_score(y_test, y_pred))"
   ]
  },
  {
   "cell_type": "code",
   "execution_count": 214,
   "id": "induced-ordinance",
   "metadata": {},
   "outputs": [
    {
     "name": "stdout",
     "output_type": "stream",
     "text": [
      "Logistic Regression confusion matrix: \n",
      "\n",
      " [[972 765]\n",
      " [ 91 163]]\n"
     ]
    }
   ],
   "source": [
    "print(\"Logistic Regression confusion matrix: \\n\\n\", confusion_matrix(y_test, lr.predict(X_test)))"
   ]
  },
  {
   "cell_type": "code",
   "execution_count": 215,
   "id": "optical-villa",
   "metadata": {},
   "outputs": [
    {
     "name": "stdout",
     "output_type": "stream",
     "text": [
      "Threshold of 0.4:\n",
      "Precision: 0.1424,   Recall: 0.9528\n"
     ]
    }
   ],
   "source": [
    "y_predict = (lr.predict_proba(X_test)[:,1] > 0.3)\n",
    "print(\"Threshold of 0.4:\")\n",
    "print(\"Precision: {:6.4f},   Recall: {:6.4f}\".format(precision_score(y_test, y_predict), \n",
    "                                                     recall_score(y_test, y_predict)))"
   ]
  },
  {
   "cell_type": "code",
   "execution_count": 216,
   "id": "first-mortgage",
   "metadata": {},
   "outputs": [
    {
     "name": "stdout",
     "output_type": "stream",
     "text": [
      "Logistic Regression confusion matrix: \n",
      "\n",
      " [[972 765]\n",
      " [ 91 163]]\n"
     ]
    }
   ],
   "source": [
    "print(\"Logistic Regression confusion matrix: \\n\\n\", confusion_matrix(y_test, lr.predict(X_test)))"
   ]
  },
  {
   "cell_type": "code",
   "execution_count": 217,
   "id": "current-sharp",
   "metadata": {},
   "outputs": [
    {
     "data": {
      "image/png": "[encoded data removed]",
      "text/plain": [
       "<Figure size 432x288 with 2 Axes>"
      ]
     },
     "metadata": {
      "needs_background": "light"
     },
     "output_type": "display_data"
    }
   ],
   "source": [
    "sns.heatmap(df_class.corr(), cmap=\"coolwarm\",vmin=-1, vmax=1)\n",
    "plt.show()"
   ]
  },
  {
   "cell_type": "code",
   "execution_count": 218,
   "id": "burning-formation",
   "metadata": {},
   "outputs": [],
   "source": [
    "from sklearn.tree import DecisionTreeClassifier\n",
    "from sklearn.ensemble import RandomForestClassifier"
   ]
  },
  {
   "cell_type": "code",
   "execution_count": 219,
   "id": "european-correspondence",
   "metadata": {},
   "outputs": [
    {
     "name": "stdout",
     "output_type": "stream",
     "text": [
      "[0.02272727 0.01363636 0.00454545 0.01818182 0.02272727]\n"
     ]
    }
   ],
   "source": [
    "decisiontree = DecisionTreeClassifier(max_depth=4)\n",
    "decisiontree.fit(X_scaled, y)\n",
    "decisiontree.score(X_test, y_test)\n",
    "scores = cross_val_score(decisiontree, X_scaled, y, cv=5, scoring='recall')\n",
    "print(scores)"
   ]
  },
  {
   "cell_type": "code",
   "execution_count": 220,
   "id": "painted-struggle",
   "metadata": {},
   "outputs": [
    {
     "name": "stdout",
     "output_type": "stream",
     "text": [
      "[0.04090909 0.03636364 0.03636364 0.01818182 0.06818182]\n"
     ]
    }
   ],
   "source": [
    "randomforest = RandomForestClassifier(n_estimators=100)\n",
    "randomforest.fit(X_scaled, y)\n",
    "scores = cross_val_score(randomforest, X_scaled, y, cv=5, scoring='recall')\n",
    "print(scores)"
   ]
  },
  {
   "cell_type": "code",
   "execution_count": 221,
   "id": "outer-month",
   "metadata": {},
   "outputs": [],
   "source": [
    "import imblearn.over_sampling"
   ]
  },
  {
   "cell_type": "code",
   "execution_count": 222,
   "id": "deluxe-narrative",
   "metadata": {},
   "outputs": [],
   "source": [
    "X = df_class[['SciCont','SciExpert','EnePrior','IncRel','CliImp', 'MedProf', 'ClinTrials', 'USHelp',\n",
    "              'CovidThreat', 'SocDist', 'Vaccine','Female','PolLean']]\n",
    "y = df_class['OneYear']"
   ]
  },
  {
   "cell_type": "code",
   "execution_count": 223,
   "id": "ignored-saint",
   "metadata": {},
   "outputs": [],
   "source": [
    "X_tr, X_test, y_tr, y_test = train_test_split(X, y, test_size=0.2, random_state=5)\n",
    "n_pos = np.sum(y_tr == 1)\n",
    "n_neg = np.sum(y_tr == 0)\n",
    "ratio = {1 : n_pos * 6, 0 : n_neg} \n",
    "ROS = imblearn.over_sampling.RandomOverSampler(sampling_strategy = ratio, random_state=5)\n",
    "X_tr_rs, y_tr_rs = ROS.fit_resample(X_tr,y_tr)"
   ]
  },
  {
   "cell_type": "code",
   "execution_count": 224,
   "id": "backed-cleveland",
   "metadata": {},
   "outputs": [
    {
     "data": {
      "text/plain": [
       "LogisticRegression(solver='liblinear')"
      ]
     },
     "execution_count": 224,
     "metadata": {},
     "output_type": "execute_result"
    }
   ],
   "source": [
    "lr = LogisticRegression(solver='liblinear') \n",
    "lr.fit(X_tr, y_tr)\n",
    "\n",
    "lr_os = LogisticRegression(solver='liblinear') \n",
    "lr_os.fit(X_tr_rs, y_tr_rs)"
   ]
  },
  {
   "cell_type": "code",
   "execution_count": 225,
   "id": "exciting-provision",
   "metadata": {},
   "outputs": [
    {
     "name": "stdout",
     "output_type": "stream",
     "text": [
      "0.003937007874015748\n",
      "0.5511811023622047\n"
     ]
    }
   ],
   "source": [
    "y_pred = lr.predict(X_test)\n",
    "print(metrics.recall_score(y_test, y_pred))\n",
    "\n",
    "y_pred_os = lr_os.predict(X_test)\n",
    "print(metrics.recall_score(y_test, y_pred_os))"
   ]
  },
  {
   "cell_type": "code",
   "execution_count": 226,
   "id": "loving-costume",
   "metadata": {},
   "outputs": [
    {
     "name": "stdout",
     "output_type": "stream",
     "text": [
      "Logistic Regression confusion matrix: \n",
      "\n",
      " [[1133  604]\n",
      " [ 114  140]]\n"
     ]
    }
   ],
   "source": [
    "print(\"Logistic Regression confusion matrix: \\n\\n\", confusion_matrix(y_test, lr_os.predict(X_test)))"
   ]
  },
  {
   "cell_type": "code",
   "execution_count": 227,
   "id": "awful-excuse",
   "metadata": {},
   "outputs": [],
   "source": [
    "from sklearn.naive_bayes import BernoulliNB"
   ]
  },
  {
   "cell_type": "code",
   "execution_count": 228,
   "id": "accessible-earth",
   "metadata": {},
   "outputs": [
    {
     "data": {
      "text/plain": [
       "0.5580110497237569"
      ]
     },
     "execution_count": 228,
     "metadata": {},
     "output_type": "execute_result"
    }
   ],
   "source": [
    "nb = BernoulliNB()\n",
    "nb.fit(X_tr_rs,y_tr_rs)\n",
    "nb.score(X_test,y_test)"
   ]
  },
  {
   "cell_type": "code",
   "execution_count": 229,
   "id": "given-climb",
   "metadata": {},
   "outputs": [
    {
     "name": "stdout",
     "output_type": "stream",
     "text": [
      "0.6732283464566929\n",
      "0.5580110497237569\n",
      "0.17665289256198347\n",
      "0.27986906710310966\n"
     ]
    }
   ],
   "source": [
    "y_pred = nb.predict(X_test)\n",
    "print(metrics.recall_score(y_test, y_pred))\n",
    "print(metrics.accuracy_score(y_test,y_pred))\n",
    "print(metrics.precision_score(y_test,y_pred))\n",
    "print(metrics.f1_score(y_test,y_pred))"
   ]
  },
  {
   "cell_type": "code",
   "execution_count": 230,
   "id": "fleet-bleeding",
   "metadata": {},
   "outputs": [
    {
     "name": "stdout",
     "output_type": "stream",
     "text": [
      "Naive Bayes confusion matrix: \n",
      "\n",
      " [[940 797]\n",
      " [ 83 171]]\n"
     ]
    }
   ],
   "source": [
    "print(\"Naive Bayes confusion matrix: \\n\\n\", confusion_matrix(y_test, nb.predict(X_test)))"
   ]
  },
  {
   "cell_type": "code",
   "execution_count": 231,
   "id": "recent-channels",
   "metadata": {},
   "outputs": [],
   "source": [
    "###### Work on modifying chosen logistic regression model"
   ]
  },
  {
   "cell_type": "code",
   "execution_count": 347,
   "id": "suspended-sequence",
   "metadata": {},
   "outputs": [],
   "source": [
    "X = df_class[['SciExpert','CovidThreat', 'Vaccine', 'COVED_Bin','PolLean']]\n",
    "y = df_class['OneYear']"
   ]
  },
  {
   "cell_type": "code",
   "execution_count": 348,
   "id": "dependent-desire",
   "metadata": {},
   "outputs": [],
   "source": [
    "scaler = StandardScaler()\n",
    "X_scaled = scaler.fit_transform(X.values)"
   ]
  },
  {
   "cell_type": "code",
   "execution_count": 349,
   "id": "casual-creativity",
   "metadata": {},
   "outputs": [],
   "source": [
    "X_scaled, X_test, y, y_test = train_test_split(X_scaled, y, test_size=0.2, random_state=5)"
   ]
  },
  {
   "cell_type": "code",
   "execution_count": 350,
   "id": "eastern-stick",
   "metadata": {},
   "outputs": [
    {
     "name": "stdout",
     "output_type": "stream",
     "text": [
      "[0.73636364 0.75454545 0.73636364 0.70909091 0.70909091 0.71818182\n",
      " 0.67272727 0.62727273 0.69090909 0.7       ]\n"
     ]
    }
   ],
   "source": [
    "lr = LogisticRegression(class_weight = 'balanced',C = 1000)\n",
    "lr.fit(X_scaled, y)\n",
    "scores = cross_val_score(lr, X_scaled, y, cv=10, scoring='recall')\n",
    "print(scores)"
   ]
  },
  {
   "cell_type": "code",
   "execution_count": 351,
   "id": "forced-copying",
   "metadata": {},
   "outputs": [
    {
     "name": "stdout",
     "output_type": "stream",
     "text": [
      "0.7283464566929134\n",
      "[[-0.09029972  0.10227852 -0.24188962  0.2988268   0.07216919]]\n"
     ]
    }
   ],
   "source": [
    "y_pred = lr.predict(X_test)\n",
    "print(metrics.recall_score(y_test, y_pred))\n",
    "\n",
    "print(lr.coef_)"
   ]
  },
  {
   "cell_type": "code",
   "execution_count": 352,
   "id": "varying-prophet",
   "metadata": {},
   "outputs": [],
   "source": [
    "from sklearn.metrics import roc_auc_score, roc_curve\n",
    "\n",
    "fpr, tpr, thresholds = roc_curve(y_test, lr.predict_proba(X_test)[:,1])"
   ]
  },
  {
   "cell_type": "code",
   "execution_count": 353,
   "id": "entire-settle",
   "metadata": {},
   "outputs": [
    {
     "name": "stdout",
     "output_type": "stream",
     "text": [
      "ROC AUC score =  0.6327487885257865\n"
     ]
    },
    {
     "data": {
      "image/png": "[encoded data removed]",
      "text/plain": [
       "<Figure size 432x288 with 1 Axes>"
      ]
     },
     "metadata": {},
     "output_type": "display_data"
    }
   ],
   "source": [
    "plt.plot(fpr, tpr,lw=2)\n",
    "plt.plot([0,1],[0,1],c='violet',ls='--')\n",
    "plt.xlim([-0.05,1.05])\n",
    "plt.ylim([-0.05,1.05])\n",
    "\n",
    "\n",
    "plt.xlabel('False positive rate')\n",
    "plt.ylabel('True positive rate')\n",
    "plt.title('ROC curve');\n",
    "print(\"ROC AUC score = \", roc_auc_score(y_test, lr.predict_proba(X_test)[:,1]))"
   ]
  },
  {
   "cell_type": "code",
   "execution_count": 354,
   "id": "sustainable-arthur",
   "metadata": {},
   "outputs": [
    {
     "name": "stdout",
     "output_type": "stream",
     "text": [
      "0.16621743036837378\n",
      "0.27066569129480617\n"
     ]
    }
   ],
   "source": [
    "print(metrics.precision_score(y_test, y_pred))\n",
    "print(metrics.f1_score(y_test, y_pred))"
   ]
  },
  {
   "cell_type": "code",
   "execution_count": 355,
   "id": "handmade-laugh",
   "metadata": {},
   "outputs": [
    {
     "name": "stdout",
     "output_type": "stream",
     "text": [
      "0.27870150435471097\n",
      "0.6929133858267716\n"
     ]
    }
   ],
   "source": [
    "smote = imblearn.over_sampling.SMOTE(sampling_strategy=ratio, random_state = 42)\n",
    "    \n",
    "X_scaled_smote, y_smote = smote.fit_resample(X_scaled, y)\n",
    "\n",
    "lr_smote = LogisticRegression(solver='liblinear') \n",
    "lr_smote.fit(X_scaled_smote, y_smote)\n",
    "\n",
    "print(metrics.f1_score(y_test, lr_smote.predict(X_test)))\n",
    "print(metrics.recall_score(y_test, lr_smote.predict(X_test)))      "
   ]
  },
  {
   "cell_type": "code",
   "execution_count": 356,
   "id": "distinct-petersburg",
   "metadata": {},
   "outputs": [
    {
     "name": "stdout",
     "output_type": "stream",
     "text": [
      "Threshold of 0.45:\n",
      "Precision: 0.1570,   Recall: 0.8031\n"
     ]
    }
   ],
   "source": [
    "y_predict = (lr.predict_proba(X_test)[:,1] > 0.45)\n",
    "print(\"Threshold of 0.45:\")\n",
    "print(\"Precision: {:6.4f},   Recall: {:6.4f}\".format(precision_score(y_test, y_predict), \n",
    "                                                     recall_score(y_test, y_predict)))"
   ]
  },
  {
   "cell_type": "code",
   "execution_count": 370,
   "id": "subsequent-oakland",
   "metadata": {},
   "outputs": [
    {
     "name": "stdout",
     "output_type": "stream",
     "text": [
      "Logistic Regression Model best F1 score 0.271 at prob decision threshold >= 0.475\n"
     ]
    },
    {
     "data": {
      "image/png": "[encoded data removed]",
      "text/plain": [
       "<Figure size 432x288 with 1 Axes>"
      ]
     },
     "metadata": {},
     "output_type": "display_data"
    }
   ],
   "source": [
    "from sklearn.metrics import precision_score, recall_score, accuracy_score\n",
    "\n",
    "import matplotlib.pyplot as plt\n",
    "%matplotlib inline\n",
    "import seaborn as sns\n",
    "sns.set()\n",
    "\n",
    "X_val, y_val = X_test, y_test \n",
    "\n",
    "thresh_ps = np.linspace(.10,.50,1000)\n",
    "model_val_probs = lr.predict_proba(X_val)[:,1] # positive class probs\n",
    "f1_scores, prec_scores, rec_scores, acc_scores = [], [], [], []\n",
    "for p in thresh_ps:\n",
    "    model_val_labels = model_val_probs >= p\n",
    "    f1_scores.append(f1_score(y_val, model_val_labels))    \n",
    "    prec_scores.append(precision_score(y_val, model_val_labels))\n",
    "    rec_scores.append(recall_score(y_val, model_val_labels))\n",
    "    acc_scores.append(accuracy_score(y_val, model_val_labels))\n",
    "    \n",
    "plt.plot(thresh_ps, f1_scores)\n",
    "plt.plot(thresh_ps, prec_scores)\n",
    "plt.plot(thresh_ps, rec_scores)\n",
    "plt.plot(thresh_ps, acc_scores)\n",
    "\n",
    "plt.title('Metric Scores vs. Positive Class Decision Probability Threshold')\n",
    "plt.legend(['F1','Precision','Recall','Accuracy'],  loc='best')\n",
    "plt.xlabel('P threshold')\n",
    "\n",
    "#bbox_to_anchor=(1.05, 0),\n",
    "best_f1_score = np.max(f1_scores) \n",
    "best_thresh_p = thresh_ps[np.argmax(f1_scores)]\n",
    "\n",
    "print('Logistic Regression Model best F1 score %.3f at prob decision threshold >= %.3f' \n",
    "      % (best_f1_score, best_thresh_p))\n",
    "plt.savefig('Logistic_Metrics.PNG', transparent=True)"
   ]
  },
  {
   "cell_type": "code",
   "execution_count": 372,
   "id": "federal-cargo",
   "metadata": {},
   "outputs": [
    {
     "name": "stdout",
     "output_type": "stream",
     "text": [
      "Threshold of 0.45:\n",
      "Precision: 0.1570,   Recall: 0.8031\n"
     ]
    }
   ],
   "source": [
    "y_predict = (lr.predict_proba(X_test)[:,1] > 0.45)\n",
    "print(\"Threshold of 0.45:\")\n",
    "print(\"Precision: {:6.4f},   Recall: {:6.4f}\".format(precision_score(y_test, y_predict), \n",
    "                                                     recall_score(y_test, y_predict)))"
   ]
  },
  {
   "cell_type": "code",
   "execution_count": 359,
   "id": "upper-addition",
   "metadata": {},
   "outputs": [
    {
     "name": "stdout",
     "output_type": "stream",
     "text": [
      "Logistic Regression confusion matrix: \n",
      "\n",
      " [[809 928]\n",
      " [ 69 185]]\n"
     ]
    }
   ],
   "source": [
    "print(\"Logistic Regression confusion matrix: \\n\\n\", confusion_matrix(y_test, lr.predict(X_test)))"
   ]
  }
 ],
 "metadata": {
  "kernelspec": {
   "display_name": "Python [conda env:metis] *",
   "language": "python",
   "name": "conda-env-metis-py"
  },
  "language_info": {
   "codemirror_mode": {
    "name": "ipython",
    "version": 3
   },
   "file_extension": ".py",
   "mimetype": "text/x-python",
   "name": "python",
   "nbconvert_exporter": "python",
   "pygments_lexer": "ipython3",
   "version": "3.8.8"
  }
 },
 "nbformat": 4,
 "nbformat_minor": 5
}
